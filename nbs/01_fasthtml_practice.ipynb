{
 "cells": [
  {
   "cell_type": "code",
   "execution_count": null,
   "id": "c07fe3ed-c895-4623-b1ed-f94cdb73089e",
   "metadata": {},
   "outputs": [],
   "source": [
    "#| default_exp fasthtml_practice\n",
    "from fasthtml.common import *"
   ]
  },
  {
   "cell_type": "code",
   "execution_count": null,
   "id": "f7f9b707-2b66-4633-9317-a8f70ee20673",
   "metadata": {},
   "outputs": [],
   "source": [
    "#| export \n",
    "from nbdev import showdoc"
   ]
  },
  {
   "cell_type": "code",
   "execution_count": null,
   "id": "bf417792-5932-4c9e-b039-799ec15c5c89",
   "metadata": {},
   "outputs": [],
   "source": [
    "app, rt = fast_app()"
   ]
  },
  {
   "cell_type": "code",
   "execution_count": null,
   "id": "50f03bfa-1d26-44d8-8344-b87a2822197c",
   "metadata": {},
   "outputs": [],
   "source": [
    "rt(path=\"/\")\n",
    "def get():\n",
    "    return Div(title=\"Inayet Title\", target_id=\"home\")"
   ]
  },
  {
   "cell_type": "code",
   "execution_count": null,
   "id": "5968eed5-decf-4c55-ae9f-a3ad892c1716",
   "metadata": {},
   "outputs": [
    {
     "data": {
      "text/markdown": [
       "```html\n",
       "<div hx-target=\"#home\" title=\"Inayet Title\"></div>\n",
       "\n",
       "```"
      ],
      "text/plain": [
       "div((),{'hx-target': '#home', 'title': 'Inayet Title'})"
      ]
     },
     "execution_count": null,
     "metadata": {},
     "output_type": "execute_result"
    }
   ],
   "source": [
    "get()"
   ]
  },
  {
   "cell_type": "code",
   "execution_count": null,
   "id": "c23fb731-1781-4648-935c-3bc92557c4be",
   "metadata": {},
   "outputs": [],
   "source": []
  }
 ],
 "metadata": {
  "kernelspec": {
   "display_name": "python3",
   "language": "python",
   "name": "python3"
  }
 },
 "nbformat": 4,
 "nbformat_minor": 5
}
